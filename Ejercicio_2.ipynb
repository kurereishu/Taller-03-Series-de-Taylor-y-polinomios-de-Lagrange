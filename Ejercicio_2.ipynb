{
 "cells": [
  {
   "cell_type": "markdown",
   "id": "7180f228",
   "metadata": {},
   "source": [
    "# Escuela Politécnica Nacional\n",
    "# Métodos Numéricos\n",
    "## Integrantes:\n",
    "## - Christian Ayala\n",
    "## - Jhonn Saeteros"
   ]
  },
  {
   "cell_type": "markdown",
   "id": "bc8b721d",
   "metadata": {},
   "source": [
    "## Taller 03: Series de Taylor y polinomios de Lagrange"
   ]
  },
  {
   "cell_type": "markdown",
   "id": "be0de064",
   "metadata": {},
   "source": [
    "# $\\frac{1}{1-x}$"
   ]
  },
  {
   "cell_type": "markdown",
   "id": "694b088c",
   "metadata": {},
   "source": [
    "## Solución"
   ]
  }
 ],
 "metadata": {
  "language_info": {
   "name": "python"
  }
 },
 "nbformat": 4,
 "nbformat_minor": 5
}
