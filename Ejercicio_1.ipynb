{
 "cells": [
  {
   "cell_type": "markdown",
   "id": "966f1040",
   "metadata": {},
   "source": [
    "# Escuela Politécnica Nacional\n",
    "# Métodos Numéricos\n",
    "## Integrantes:\n",
    "## - Christian Ayala\n",
    "## - Jhonn Saeteros"
   ]
  }
 ],
 "metadata": {
  "language_info": {
   "name": "python"
  }
 },
 "nbformat": 4,
 "nbformat_minor": 5
}
