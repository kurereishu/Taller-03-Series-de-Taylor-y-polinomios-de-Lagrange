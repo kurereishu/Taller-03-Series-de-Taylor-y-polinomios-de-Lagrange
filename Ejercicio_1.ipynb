{
 "cells": [
  {
   "cell_type": "markdown",
   "id": "966f1040",
   "metadata": {},
   "source": [
    "# Escuela Politécnica Nacional\n",
    "# Métodos Numéricos\n",
    "## Integrantes:\n",
    "## - Christian Ayala\n",
    "## - Jhonn Saeteros"
   ]
  },
  {
   "cell_type": "markdown",
   "id": "74c228d9",
   "metadata": {},
   "source": [
    "## Taller 03: Series de Taylor y polinomios de Lagrange"
   ]
  },
  {
   "cell_type": "markdown",
   "id": "e713d5fe",
   "metadata": {},
   "source": [
    "# $\\cos(x), x_0 = 0$"
   ]
  },
  {
   "cell_type": "markdown",
   "id": "f9686a82",
   "metadata": {},
   "source": [
    "## Solución"
   ]
  }
 ],
 "metadata": {
  "language_info": {
   "name": "python"
  }
 },
 "nbformat": 4,
 "nbformat_minor": 5
}
