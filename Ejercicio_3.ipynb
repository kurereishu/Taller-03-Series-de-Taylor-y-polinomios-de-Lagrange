{
 "cells": [
  {
   "cell_type": "markdown",
   "id": "7180f228",
   "metadata": {},
   "source": [
    "# Escuela Politécnica Nacional\n",
    "# Métodos Numéricos\n",
    "## Integrantes:\n",
    "## - Christian Ayala\n",
    "## - Jhonn Saeteros"
   ]
  },
  {
   "cell_type": "markdown",
   "id": "bc8b721d",
   "metadata": {},
   "source": [
    "## Taller 03: Series de Taylor y polinomios de Lagrange\n",
    "## Grafique las curvas de las series de Taylor de varios órdenes para los siguientes casos:"
   ]
  },
  {
   "cell_type": "markdown",
   "id": "be0de064",
   "metadata": {},
   "source": [
    "# $ln(x),x_0=1$"
   ]
  },
  {
   "cell_type": "markdown",
   "id": "694b088c",
   "metadata": {},
   "source": [
    "## Solución"
   ]
  }
 ],
 "metadata": {
  "language_info": {
   "name": "python"
  }
 },
 "nbformat": 4,
 "nbformat_minor": 5
}
